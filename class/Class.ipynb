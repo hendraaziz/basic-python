{
 "cells": [
  {
   "cell_type": "markdown",
   "id": "62d45982",
   "metadata": {},
   "source": [
    "# CLASS"
   ]
  },
  {
   "cell_type": "code",
   "execution_count": 12,
   "id": "40ab492c",
   "metadata": {},
   "outputs": [],
   "source": [
    "class Player:\n",
    "    def __init__(self, name, life, power, speed):\n",
    "        self.name,self.life,self.power,self.speed = name, life, power, speed\n",
    "        print(\"===Selamat datang===\\nPemain Baru Telah Bergabung!\")\n",
    "    def showData(self):\n",
    "        print(f\"Nama: {self.name}\\nLife: {self.life}\\nPower: {self.power}\\nSpeed: {self.speed}\")\n",
    "    def makan(self):\n",
    "        self.power +=5\n",
    "        self.life +=3\n",
    "        self.speed +=2"
   ]
  },
  {
   "cell_type": "code",
   "execution_count": 13,
   "id": "6f61b5fe",
   "metadata": {},
   "outputs": [
    {
     "name": "stdout",
     "output_type": "stream",
     "text": [
      "===Selamat datang===\n",
      "Pemain Baru Telah Bergabung!\n"
     ]
    }
   ],
   "source": [
    "aziz = Player(\"Aziz\", 80,86,90)"
   ]
  },
  {
   "cell_type": "code",
   "execution_count": 14,
   "id": "2a591404",
   "metadata": {},
   "outputs": [
    {
     "name": "stdout",
     "output_type": "stream",
     "text": [
      "Nama: Aziz\n",
      "Life: 80\n",
      "Power: 86\n",
      "Speed: 90\n"
     ]
    }
   ],
   "source": [
    "aziz.showData()"
   ]
  },
  {
   "cell_type": "code",
   "execution_count": 16,
   "id": "205cd576",
   "metadata": {},
   "outputs": [],
   "source": [
    "aziz.makan()"
   ]
  },
  {
   "cell_type": "code",
   "execution_count": 17,
   "id": "c97b9415",
   "metadata": {},
   "outputs": [
    {
     "name": "stdout",
     "output_type": "stream",
     "text": [
      "Nama: Aziz\n",
      "Life: 83\n",
      "Power: 91\n",
      "Speed: 92\n"
     ]
    }
   ],
   "source": [
    "aziz.showData()"
   ]
  },
  {
   "cell_type": "code",
   "execution_count": null,
   "id": "cfe98dbe",
   "metadata": {},
   "outputs": [],
   "source": [
    "class PlayerSuper(Player):\n",
    "    def __init__(self, name, life, power, speed, level):\n",
    "        super().__init__"
   ]
  }
 ],
 "metadata": {
  "kernelspec": {
   "display_name": "Python 3 (ipykernel)",
   "language": "python",
   "name": "python3"
  },
  "language_info": {
   "codemirror_mode": {
    "name": "ipython",
    "version": 3
   },
   "file_extension": ".py",
   "mimetype": "text/x-python",
   "name": "python",
   "nbconvert_exporter": "python",
   "pygments_lexer": "ipython3",
   "version": "3.10.4"
  }
 },
 "nbformat": 4,
 "nbformat_minor": 5
}
