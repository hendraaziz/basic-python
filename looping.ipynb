{
 "cells": [
  {
   "cell_type": "markdown",
   "id": "8d5385ab",
   "metadata": {},
   "source": [
    "# Python Looping"
   ]
  },
  {
   "cell_type": "markdown",
   "id": "6ff73aca",
   "metadata": {},
   "source": [
    "## 1. For Loop"
   ]
  },
  {
   "cell_type": "code",
   "execution_count": 1,
   "id": "8fd06c54",
   "metadata": {},
   "outputs": [
    {
     "name": "stdout",
     "output_type": "stream",
     "text": [
      "['Pisang', 'Anggur', 'Apel', 'Strawberry']\n"
     ]
    }
   ],
   "source": [
    "#membuat sequence\n",
    "fruits = [\"Pisang\",\"Anggur\",\"Apel\",\"Strawberry\"]\n",
    "print(fruits)"
   ]
  },
  {
   "cell_type": "code",
   "execution_count": 3,
   "id": "6839c867",
   "metadata": {},
   "outputs": [
    {
     "name": "stdout",
     "output_type": "stream",
     "text": [
      "Pisang\n",
      "Anggur\n",
      "Apel\n",
      "Strawberry\n"
     ]
    }
   ],
   "source": [
    "#DO FOR LOOP\n",
    "for x in fruits:\n",
    "    print(x)"
   ]
  },
  {
   "cell_type": "code",
   "execution_count": null,
   "id": "5ae645ce",
   "metadata": {},
   "outputs": [],
   "source": [
    "jumlah = int(input(\"masukkan jumlah nama yang mau dimasukan: \"))\n",
    "print(f\"Jumlah nama, {jumlah} !\")\n",
    "i = 1\n",
    "nama = []\n",
    "while i <= jumlah:\n",
    "    nama.append(input(f\"masukkan nama ke-{i}: \"))\n",
    "    i += 1\n",
    "for x in nama:\n",
    "    print(f\"Nama ke- X adalah: {x} \")"
   ]
  },
  {
   "cell_type": "code",
   "execution_count": null,
   "id": "6634a7af",
   "metadata": {},
   "outputs": [],
   "source": [
    "list1 = ['satu','dua','tiga']\n",
    "list2 = ['siji','loro','telu']\n",
    "zipped = zip(list1,list2)\n",
    "print(list(zipped))"
   ]
  },
  {
   "cell_type": "code",
   "execution_count": null,
   "id": "6b2214c7",
   "metadata": {},
   "outputs": [],
   "source": []
  }
 ],
 "metadata": {
  "kernelspec": {
   "display_name": "Python 3 (ipykernel)",
   "language": "python",
   "name": "python3"
  },
  "language_info": {
   "codemirror_mode": {
    "name": "ipython",
    "version": 3
   },
   "file_extension": ".py",
   "mimetype": "text/x-python",
   "name": "python",
   "nbconvert_exporter": "python",
   "pygments_lexer": "ipython3",
   "version": "3.10.4"
  }
 },
 "nbformat": 4,
 "nbformat_minor": 5
}
